{
 "cells": [
  {
   "cell_type": "code",
   "execution_count": 25,
   "metadata": {},
   "outputs": [],
   "source": [
    "import os"
   ]
  },
  {
   "cell_type": "code",
   "execution_count": 26,
   "metadata": {},
   "outputs": [],
   "source": [
    "path_folders = './dataset/train/images'\n",
    "folders = [ f for f in os.listdir(path_folders) if os.path.isdir(os.path.join(path_folders,f)) ]\n",
    "\n",
    "def combine_folders(folders, output_folder):\n",
    "    if not os.path.exists(output_folder):\n",
    "        os.makedirs(output_folder)\n",
    "    \n",
    "    for folder in folders:\n",
    "        path = os.path.join(path_folders, folder)\n",
    "        files = os.listdir(path)\n",
    "        # copy files and rename files to frame_000000.jpg, frame_000001.jpg, ... and save them in output_folder, every folder continues the last number of the previous folder\n",
    "        if len(files) > 0:\n",
    "            last_number = 0\n",
    "            if os.path.exists(output_folder):\n",
    "                last_number = len(os.listdir(output_folder))\n",
    "            for i, file in enumerate(files):\n",
    "                os.rename(os.path.join(path, file), os.path.join(output_folder, 'frame_{:06d}.jpg'.format(last_number + i)))\n",
    "            print('Folder {} has {} files'.format(folder, len(files)))\n",
    "        else:\n",
    "            print('Folder {} is empty'.format(folder))\n",
    "        "
   ]
  },
  {
   "cell_type": "code",
   "execution_count": 27,
   "metadata": {},
   "outputs": [
    {
     "name": "stdout",
     "output_type": "stream",
     "text": [
      "Folder 1513 has 91 files\n",
      "Folder 1516 has 282 files\n",
      "Folder 1519 has 225 files\n",
      "Folder 1533 has 237 files\n",
      "Folder 1543 has 282 files\n"
     ]
    }
   ],
   "source": [
    "combine_folders(folders, './dataset/train/images_combined')"
   ]
  }
 ],
 "metadata": {
  "kernelspec": {
   "display_name": "yolov8",
   "language": "python",
   "name": "python3"
  },
  "language_info": {
   "codemirror_mode": {
    "name": "ipython",
    "version": 3
   },
   "file_extension": ".py",
   "mimetype": "text/x-python",
   "name": "python",
   "nbconvert_exporter": "python",
   "pygments_lexer": "ipython3",
   "version": "3.10.13"
  }
 },
 "nbformat": 4,
 "nbformat_minor": 2
}
