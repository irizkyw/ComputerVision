{
 "cells": [
  {
   "cell_type": "markdown",
   "metadata": {},
   "source": [
    "#### CONVERT VIDEO TO FRAMES"
   ]
  },
  {
   "cell_type": "code",
   "execution_count": 11,
   "metadata": {},
   "outputs": [],
   "source": [
    "import os\n",
    "import cv2 as cv"
   ]
  },
  {
   "cell_type": "code",
   "execution_count": 12,
   "metadata": {},
   "outputs": [],
   "source": [
    "def video_to_frames(video, output_dir):\n",
    "    current_frame = 0\n",
    "    try:\n",
    "        if not os.path.exists(output_dir):\n",
    "            os.makedirs(output_dir)\n",
    "        while True:\n",
    "            ret, frame = video.read()\n",
    "            if not ret:\n",
    "                break\n",
    "            name = f'{current_frame:06d}.jpg'\n",
    "            cv.imwrite(os.path.join(output_dir, name), frame)\n",
    "            current_frame += 1\n",
    "    finally:\n",
    "        video.release()\n",
    "        cv.destroyAllWindows()\n",
    "        print(f'Extracted {current_frame} frames')\n"
   ]
  },
  {
   "cell_type": "markdown",
   "metadata": {},
   "source": [
    "##### export single file"
   ]
  },
  {
   "cell_type": "code",
   "execution_count": 13,
   "metadata": {},
   "outputs": [],
   "source": [
    "# files = [f for f in os.listdir('dataset/videos') if f.endswith('.mp4')]\n",
    "# video = cv.VideoCapture('./dataset/videos/1506.mp4')\n",
    "# video_to_frames(video, './dataset/frames/1506')"
   ]
  },
  {
   "cell_type": "markdown",
   "metadata": {},
   "source": [
    "##### export frame with a directory(bundle)"
   ]
  },
  {
   "cell_type": "code",
   "execution_count": 14,
   "metadata": {},
   "outputs": [
    {
     "name": "stdout",
     "output_type": "stream",
     "text": [
      "Extracted 242 frames\n",
      "Extracted 304 frames\n",
      "Extracted 91 frames\n",
      "Extracted 282 frames\n",
      "Extracted 177 frames\n",
      "Extracted 225 frames\n",
      "Extracted 235 frames\n",
      "Extracted 287 frames\n",
      "Extracted 355 frames\n",
      "Extracted 237 frames\n",
      "Extracted 265 frames\n",
      "Extracted 367 frames\n",
      "Extracted 373 frames\n",
      "Extracted 282 frames\n",
      "Extracted 395 frames\n",
      "Extracted 378 frames\n",
      "Extracted 224 frames\n",
      "Extracted 551 frames\n",
      "Extracted 304 frames\n",
      "Extracted 292 frames\n",
      "Extracted 298 frames\n",
      "Extracted 385 frames\n",
      "Extracted 914 frames\n"
     ]
    }
   ],
   "source": [
    "try:\n",
    "    path_folder = 'dataset/videos'\n",
    "    files = [f for f in os.listdir(path_folder) if f.endswith('.mp4')]\n",
    "    \n",
    "    for file in files:\n",
    "        name_file = file.split('.')[0]\n",
    "        video = cv.VideoCapture(f'{path_folder}/{file}')\n",
    "        video_to_frames(video, f'./dataset/frames/{name_file}')\n",
    "        \n",
    "except OSError:\n",
    "    print('Failed Export frame')\n",
    "\n",
    "    "
   ]
  }
 ],
 "metadata": {
  "kernelspec": {
   "display_name": "Python 3",
   "language": "python",
   "name": "python3"
  },
  "language_info": {
   "codemirror_mode": {
    "name": "ipython",
    "version": 3
   },
   "file_extension": ".py",
   "mimetype": "text/x-python",
   "name": "python",
   "nbconvert_exporter": "python",
   "pygments_lexer": "ipython3",
   "version": "3.10.13"
  }
 },
 "nbformat": 4,
 "nbformat_minor": 2
}
